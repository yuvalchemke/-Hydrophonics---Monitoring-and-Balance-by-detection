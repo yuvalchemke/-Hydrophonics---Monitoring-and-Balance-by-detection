{
 "cells": [
  {
   "cell_type": "markdown",
   "id": "645de131",
   "metadata": {},
   "source": [
    "# Agri-tech prespection\n",
    "\n",
    "<ins>EC</ins>\n",
    "\n",
    "In hydroponics, an EC measurement can be used as an indicator of how many dissolved salts are present, and thus the corresponding strength of a nutrient solution. The most common conductivity meter used in hydroponics is the two-pole sensor. This technology offers a limited range but is relatively inexpensive.\n",
    "\n",
    "For most plants you want the EC measurement to be hitting between 1.2-1.6 during the vegetative stage and 1.6-2.4 during flowering, but this can be dependent on the type of plant that's growing.\n",
    "\n",
    "<ins>pH</ins>\n",
    "\n",
    "A pH test shows whether a substance is acidic or alkaline. The pH scale ranges from 0 to 14, with 0 being the most acidic, 14 the most alkaline, and 7 is the pH-neutral point.\n",
    "\n",
    "Nutrient solutions used for soilless culture should have a pH between 5 to 6 (usually 5.5), so the pH in the root environment is maintained between 6 to 6.5. This is the pH range at which nutrients are most readily available to plants.\n",
    "\n",
    "<ins>Temprature</ins>\n",
    "\n",
    "Nutrient solution temperature influences several important variables, foremost of which are oxygen solubility and plant metabolic processes. With rising temperatures, the rate of metabolic reactions occurring in the plants will increase.\n",
    "\n",
    "The temperature of the nutrient solution is generally optimum between 15.5° and 26°. Some plants such as lettuce, alstroemeria and strawberries like it near the lower end, whereas tomatoes, cucumbers and cannabis do best near 26° \n"
   ]
  },
  {
   "cell_type": "markdown",
   "id": "d68e1f80",
   "metadata": {},
   "source": []
  }
 ],
 "metadata": {
  "kernelspec": {
   "display_name": "Python 3",
   "language": "python",
   "name": "python3"
  },
  "language_info": {
   "codemirror_mode": {
    "name": "ipython",
    "version": 3
   },
   "file_extension": ".py",
   "mimetype": "text/x-python",
   "name": "python",
   "nbconvert_exporter": "python",
   "pygments_lexer": "ipython3",
   "version": "3.8.8"
  }
 },
 "nbformat": 4,
 "nbformat_minor": 5
}
